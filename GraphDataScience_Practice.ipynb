{
 "cells": [
  {
   "attachments": {},
   "cell_type": "markdown",
   "metadata": {},
   "source": [
    "    Jupyter notebook for practicing with graph data science.\n",
    "\n",
    "    Much of the code here is patterned after chapter 2 in\n",
    "        Graph Data Science with Neo4j\n",
    "        Estelle Scifo, Packt Publishing Ltd, 2023\n",
    "\n",
    "    Michael A. Goodrich\n",
    "    Brigham Young University\n",
    "\n",
    "    March 2023\n",
    "\n",
    "---\n"
   ]
  },
  {
   "attachments": {},
   "cell_type": "markdown",
   "metadata": {},
   "source": [
    "Requires\n",
    "* os\n",
    "* matplotlib\n",
    "* seaborn\n",
    "* pandas\n",
    "* ipykernel ???\n",
    "\n",
    "---"
   ]
  },
  {
   "attachments": {},
   "cell_type": "markdown",
   "metadata": {},
   "source": [
    "_Show some example database entries_"
   ]
  },
  {
   "cell_type": "code",
   "execution_count": 1,
   "metadata": {},
   "outputs": [
    {
     "data": {
      "text/html": [
       "<div>\n",
       "<style scoped>\n",
       "    .dataframe tbody tr th:only-of-type {\n",
       "        vertical-align: middle;\n",
       "    }\n",
       "\n",
       "    .dataframe tbody tr th {\n",
       "        vertical-align: top;\n",
       "    }\n",
       "\n",
       "    .dataframe thead th {\n",
       "        text-align: right;\n",
       "    }\n",
       "</style>\n",
       "<table border=\"1\" class=\"dataframe\">\n",
       "  <thead>\n",
       "    <tr style=\"text-align: right;\">\n",
       "      <th></th>\n",
       "      <th>rank</th>\n",
       "      <th>name</th>\n",
       "      <th>year</th>\n",
       "      <th>rating</th>\n",
       "      <th>genre</th>\n",
       "      <th>certificate</th>\n",
       "      <th>run_time</th>\n",
       "      <th>tagline</th>\n",
       "      <th>budget</th>\n",
       "      <th>box_office</th>\n",
       "      <th>casts</th>\n",
       "      <th>directors</th>\n",
       "      <th>writers</th>\n",
       "    </tr>\n",
       "  </thead>\n",
       "  <tbody>\n",
       "    <tr>\n",
       "      <th>0</th>\n",
       "      <td>1</td>\n",
       "      <td>The Shawshank Redemption</td>\n",
       "      <td>1994</td>\n",
       "      <td>9.3</td>\n",
       "      <td>Drama</td>\n",
       "      <td>R</td>\n",
       "      <td>2h 22m</td>\n",
       "      <td>Fear can hold you prisoner. Hope can set you f...</td>\n",
       "      <td>25000000</td>\n",
       "      <td>28884504</td>\n",
       "      <td>Tim Robbins,Morgan Freeman,Bob Gunton,William ...</td>\n",
       "      <td>Frank Darabont</td>\n",
       "      <td>Stephen King,Frank Darabont</td>\n",
       "    </tr>\n",
       "    <tr>\n",
       "      <th>1</th>\n",
       "      <td>2</td>\n",
       "      <td>The Godfather</td>\n",
       "      <td>1972</td>\n",
       "      <td>9.2</td>\n",
       "      <td>Crime,Drama</td>\n",
       "      <td>R</td>\n",
       "      <td>2h 55m</td>\n",
       "      <td>An offer you can't refuse.</td>\n",
       "      <td>6000000</td>\n",
       "      <td>250341816</td>\n",
       "      <td>Marlon Brando,Al Pacino,James Caan,Diane Keato...</td>\n",
       "      <td>Francis Ford Coppola</td>\n",
       "      <td>Mario Puzo,Francis Ford Coppola</td>\n",
       "    </tr>\n",
       "    <tr>\n",
       "      <th>2</th>\n",
       "      <td>3</td>\n",
       "      <td>The Dark Knight</td>\n",
       "      <td>2008</td>\n",
       "      <td>9.0</td>\n",
       "      <td>Action,Crime,Drama</td>\n",
       "      <td>PG-13</td>\n",
       "      <td>2h 32m</td>\n",
       "      <td>Why So Serious?</td>\n",
       "      <td>185000000</td>\n",
       "      <td>1006234167</td>\n",
       "      <td>Christian Bale,Heath Ledger,Aaron Eckhart,Mich...</td>\n",
       "      <td>Christopher Nolan</td>\n",
       "      <td>Jonathan Nolan,Christopher Nolan,David S. Goyer</td>\n",
       "    </tr>\n",
       "    <tr>\n",
       "      <th>3</th>\n",
       "      <td>4</td>\n",
       "      <td>The Godfather Part II</td>\n",
       "      <td>1974</td>\n",
       "      <td>9.0</td>\n",
       "      <td>Crime,Drama</td>\n",
       "      <td>R</td>\n",
       "      <td>3h 22m</td>\n",
       "      <td>All the power on earth can't change destiny.</td>\n",
       "      <td>13000000</td>\n",
       "      <td>47961919</td>\n",
       "      <td>Al Pacino,Robert De Niro,Robert Duvall,Diane K...</td>\n",
       "      <td>Francis Ford Coppola</td>\n",
       "      <td>Francis Ford Coppola,Mario Puzo</td>\n",
       "    </tr>\n",
       "    <tr>\n",
       "      <th>4</th>\n",
       "      <td>5</td>\n",
       "      <td>12 Angry Men</td>\n",
       "      <td>1957</td>\n",
       "      <td>9.0</td>\n",
       "      <td>Crime,Drama</td>\n",
       "      <td>Approved</td>\n",
       "      <td>1h 36m</td>\n",
       "      <td>Life Is In Their Hands -- Death Is On Their Mi...</td>\n",
       "      <td>350000</td>\n",
       "      <td>955</td>\n",
       "      <td>Henry Fonda,Lee J. Cobb,Martin Balsam,John Fie...</td>\n",
       "      <td>Sidney Lumet</td>\n",
       "      <td>Reginald Rose</td>\n",
       "    </tr>\n",
       "  </tbody>\n",
       "</table>\n",
       "</div>"
      ],
      "text/plain": [
       "   rank                      name  year  rating               genre  \\\n",
       "0     1  The Shawshank Redemption  1994     9.3               Drama   \n",
       "1     2             The Godfather  1972     9.2         Crime,Drama   \n",
       "2     3           The Dark Knight  2008     9.0  Action,Crime,Drama   \n",
       "3     4     The Godfather Part II  1974     9.0         Crime,Drama   \n",
       "4     5              12 Angry Men  1957     9.0         Crime,Drama   \n",
       "\n",
       "  certificate run_time                                            tagline  \\\n",
       "0           R   2h 22m  Fear can hold you prisoner. Hope can set you f...   \n",
       "1           R   2h 55m                         An offer you can't refuse.   \n",
       "2       PG-13   2h 32m                                    Why So Serious?   \n",
       "3           R   3h 22m       All the power on earth can't change destiny.   \n",
       "4    Approved   1h 36m  Life Is In Their Hands -- Death Is On Their Mi...   \n",
       "\n",
       "      budget  box_office                                              casts  \\\n",
       "0   25000000    28884504  Tim Robbins,Morgan Freeman,Bob Gunton,William ...   \n",
       "1    6000000   250341816  Marlon Brando,Al Pacino,James Caan,Diane Keato...   \n",
       "2  185000000  1006234167  Christian Bale,Heath Ledger,Aaron Eckhart,Mich...   \n",
       "3   13000000    47961919  Al Pacino,Robert De Niro,Robert Duvall,Diane K...   \n",
       "4     350000         955  Henry Fonda,Lee J. Cobb,Martin Balsam,John Fie...   \n",
       "\n",
       "              directors                                          writers  \n",
       "0        Frank Darabont                      Stephen King,Frank Darabont  \n",
       "1  Francis Ford Coppola                  Mario Puzo,Francis Ford Coppola  \n",
       "2     Christopher Nolan  Jonathan Nolan,Christopher Nolan,David S. Goyer  \n",
       "3  Francis Ford Coppola                  Francis Ford Coppola,Mario Puzo  \n",
       "4          Sidney Lumet                                    Reginald Rose  "
      ]
     },
     "execution_count": 1,
     "metadata": {},
     "output_type": "execute_result"
    }
   ],
   "source": [
    "\"\"\" Get data example from Kaggle \n",
    "\n",
    "    https://www.kaggle.com/datasets/rajugc/imdb-top-250-movies-dataset\n",
    "\n",
    "    Copy code from the following to read in data:\n",
    "\n",
    "    https://www.kaggle.com/code/rajugc/imdb-top-250-movies-eda\n",
    "\n",
    "    The code is released under the Apache 2.0 open source license.\n",
    "\"\"\"\n",
    "\n",
    "import numpy as np\n",
    "import pandas as pd\n",
    "import matplotlib.pyplot as plt\n",
    "import seaborn as sns\n",
    "%matplotlib inline\n",
    "\n",
    "# I\n",
    "\n",
    "df = pd.read_csv('databases/IMDB Top 250 Movies.csv') # prefix this file name with the directory in which you stored it\n",
    "df.head()   # This function returns the first n rows for the object based on position. \n",
    "            # It is useful for quickly testing if your object has the right type of data in it.\n",
    "            # https://pandas.pydata.org/docs/reference/api/pandas.DataFrame.head.html"
   ]
  },
  {
   "attachments": {},
   "cell_type": "markdown",
   "metadata": {},
   "source": [
    "_Show the information about what is contained in each column_"
   ]
  },
  {
   "cell_type": "code",
   "execution_count": 74,
   "metadata": {},
   "outputs": [
    {
     "name": "stdout",
     "output_type": "stream",
     "text": [
      "<class 'pandas.core.frame.DataFrame'>\n",
      "RangeIndex: 250 entries, 0 to 249\n",
      "Data columns (total 13 columns):\n",
      " #   Column       Non-Null Count  Dtype  \n",
      "---  ------       --------------  -----  \n",
      " 0   rank         250 non-null    int64  \n",
      " 1   name         250 non-null    object \n",
      " 2   year         250 non-null    int64  \n",
      " 3   rating       250 non-null    float64\n",
      " 4   genre        250 non-null    object \n",
      " 5   certificate  250 non-null    object \n",
      " 6   run_time     250 non-null    object \n",
      " 7   tagline      250 non-null    object \n",
      " 8   budget       250 non-null    object \n",
      " 9   box_office   250 non-null    object \n",
      " 10  casts        250 non-null    object \n",
      " 11  directors    250 non-null    object \n",
      " 12  writers      250 non-null    object \n",
      "dtypes: float64(1), int64(2), object(10)\n",
      "memory usage: 25.5+ KB\n"
     ]
    }
   ],
   "source": [
    "df.info()\n",
    "# This method prints information about a DataFrame including the index dtype and \n",
    "# columns, non-null values and memory usage.\n",
    "# https://pandas.pydata.org/docs/reference/api/pandas.DataFrame.info.html"
   ]
  },
  {
   "attachments": {},
   "cell_type": "markdown",
   "metadata": {},
   "source": [
    "_Gather some summary information about which genres are present in the data_"
   ]
  },
  {
   "cell_type": "code",
   "execution_count": 75,
   "metadata": {},
   "outputs": [
    {
     "data": {
      "text/plain": [
       "genre\n",
       "Drama                         19\n",
       "Crime,Drama                   14\n",
       "Animation,Adventure,Comedy    10\n",
       "Biography,Drama,History        9\n",
       "Crime,Drama,Mystery            9\n",
       "                              ..\n",
       "Crime,Mystery,Thriller         1\n",
       "Crime,Sci-Fi                   1\n",
       "Adventure,Comedy,Sci-Fi        1\n",
       "Adventure,Comedy,Fantasy       1\n",
       "Adventure,Comedy,Drama         1\n",
       "Length: 104, dtype: int64"
      ]
     },
     "execution_count": 75,
     "metadata": {},
     "output_type": "execute_result"
    }
   ],
   "source": [
    "df.value_counts('genre')"
   ]
  },
  {
   "attachments": {},
   "cell_type": "markdown",
   "metadata": {},
   "source": [
    "Our next task is to define a schema for the graph we want to create.\n",
    "The schema should be set up in a way that allows us to answer questions that we might ask.\n",
    "\n",
    "![Graph schema](GraphSchema.drawio.svg)\n",
    "\n",
    "See Neo4j bok, page 31\n",
    "\n",
    "---\n",
    "\n",
    "We now need to go through the database and create a node for each movie, genre, movie certificate, and person. There are graph database query tools for doing this (e.g., Cyper in Neo4j), but I'm trying to teach this without requiring you to learn a lot of new tools, so I'll try to write code that extracts movie information into _nodes_. Each node will have metadata, describing what the node represents. We'll then create _edges_ using the \"resource description framework\" (RDF), which represents relationships between nodes using a _subject predicate object_ relationship template."
   ]
  },
  {
   "cell_type": "code",
   "execution_count": 76,
   "metadata": {},
   "outputs": [
    {
     "data": {
      "image/png": "[encoded data removed]",
      "text/plain": [
       "<Figure size 640x480 with 1 Axes>"
      ]
     },
     "metadata": {},
     "output_type": "display_data"
    }
   ],
   "source": [
    "\"\"\" Functions for pulling out unique genres\n",
    "    Many movies are categorized under multiple genres\n",
    "\"\"\"\n",
    "import networkx as nx\n",
    "import matplotlib as mpl\n",
    "from matplotlib import pyplot as plt\n",
    "\n",
    "def get_unique_genres(df):\n",
    "    genres = df[\"genre\"]\n",
    "    set_of_genres = set()\n",
    "    for i in range(len(genres)):\n",
    "        movie_genre_types = genres[i].split(',')\n",
    "        for genre in movie_genre_types:\n",
    "            if genre not in set_of_genres:\n",
    "                set_of_genres.add(genre)\n",
    "    #print(set_of_genres)\n",
    "    return set_of_genres\n",
    "\n",
    "genres = get_unique_genres(df)\n",
    "#print(len(genres))\n",
    "G = nx.empty_graph()\n",
    "G.add_nodes_from(genres)\n",
    "#for genre in genres:\n",
    "#    G.add_node(genre)\n",
    "plt.figure(1); plt.clf(); plt.ion()\n",
    "pos = nx.nx_agraph.graphviz_layout(G,prog='neato')\n",
    "nx.draw(G,pos,node_color = 'y', alpha = 0.8, node_size = 700, with_labels = True)\n",
    "plt.show()\n",
    "\n",
    "    \n",
    "    \n",
    "    \n"
   ]
  }
 ],
 "metadata": {
  "kernelspec": {
   "display_name": ".venv",
   "language": "python",
   "name": "python3"
  },
  "language_info": {
   "codemirror_mode": {
    "name": "ipython",
    "version": 3
   },
   "file_extension": ".py",
   "mimetype": "text/x-python",
   "name": "python",
   "nbconvert_exporter": "python",
   "pygments_lexer": "ipython3",
   "version": "3.11.2"
  },
  "orig_nbformat": 4
 },
 "nbformat": 4,
 "nbformat_minor": 2
}
